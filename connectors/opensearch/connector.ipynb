{
 "cells": [
  {
   "cell_type": "code",
   "execution_count": null,
   "id": "initial_id",
   "metadata": {
    "tags": []
   },
   "outputs": [],
   "source": [
    "import os\n",
    "import sys\n",
    "\n",
    "import boto3\n",
    "from pyspark.context import SparkContext\n",
    "from awsglue.context import GlueContext\n",
    "from awsglue.job import Job\n",
    "from awsglue.utils import getResolvedOptions"
   ]
  },
  {
   "cell_type": "code",
   "execution_count": null,
   "id": "92d05c20888c5124",
   "metadata": {
    "collapsed": false,
    "jupyter": {
     "outputs_hidden": false
    }
   },
   "outputs": [],
   "source": [
    "sc = SparkContext.getOrCreate()\n",
    "glueContext = GlueContext(sc)\n",
    "spark = glueContext.spark_session\n",
    "job = Job(glueContext)"
   ]
  },
  {
   "cell_type": "code",
   "execution_count": null,
   "id": "490c6d88-b93e-4815-92ce-fe253b7b95df",
   "metadata": {},
   "outputs": [],
   "source": [
    "hadoop_conf = sc._jsc.hadoopConfiguration()\n",
    "hadoop_conf.set(\"fs.s3a.access.key\", os.getenv('MINIO_ACCESS_KEY'))\n",
    "hadoop_conf.set(\"fs.s3a.secret.key\", os.getenv('MINIO_SECRET_KEY'))\n",
    "hadoop_conf.set(\"fs.s3a.path.style.access\", \"true\")\n",
    "hadoop_conf.set(\"fs.s3.impl\", \"org.apache.hadoop.fs.s3a.S3AFileSystem\")\n",
    "hadoop_conf.set(\"fs.s3a.endpoint\", \"http://minio:9000\")"
   ]
  },
  {
   "cell_type": "code",
   "execution_count": null,
   "id": "b24d2c3d-f32f-4ffa-93b4-ed3b6adfa472",
   "metadata": {},
   "outputs": [],
   "source": [
    "# Initialize the S3 client for MinIO\n",
    "s3 = boto3.client(\n",
    "    's3',\n",
    "    endpoint_url='http://minio:9000',\n",
    "    aws_access_key_id=os.getenv('MINIO_ACCESS_KEY'),\n",
    "    aws_secret_access_key=os.getenv('MINIO_SECRET_KEY'),\n",
    ")"
   ]
  },
  {
   "cell_type": "code",
   "execution_count": null,
   "id": "0b152147-a5eb-4048-8378-7bde15f3730e",
   "metadata": {},
   "outputs": [],
   "source": [
    "# Define the bucket and prefix\n",
    "minio_bucket = os.getenv('MINIO_BUCKET')\n",
    "minio_prefix = os.getenv('MINIO_PREFIX')\n",
    "\n",
    "# List the objects in the bucket\n",
    "object_keys = []\n",
    "response = s3.list_objects_v2(Bucket=minio_bucket, Prefix=minio_prefix)\n",
    "for obj in response.get('Contents', []):\n",
    "    print('---', obj.get('Key'))\n",
    "    path_s3 = \"s3://{}/{}\".format(minio_bucket, obj.get('Key'))\n",
    "    print(path_s3)\n",
    "    df = spark.read.csv(path_s3, header=True, inferSchema=True)\n",
    "    print(df.show(5))\n",
    "    "
   ]
  },
  {
   "cell_type": "code",
   "execution_count": null,
   "id": "bb570978-93ef-460b-b1b3-7bb8e1771e22",
   "metadata": {},
   "outputs": [],
   "source": []
  }
 ],
 "metadata": {
  "kernelspec": {
   "display_name": "Python 3 (ipykernel)",
   "language": "python",
   "name": "python3"
  },
  "language_info": {
   "codemirror_mode": {
    "name": "ipython",
    "version": 3
   },
   "file_extension": ".py",
   "mimetype": "text/x-python",
   "name": "python",
   "nbconvert_exporter": "python",
   "pygments_lexer": "ipython3",
   "version": "3.10.2"
  }
 },
 "nbformat": 4,
 "nbformat_minor": 5
}
