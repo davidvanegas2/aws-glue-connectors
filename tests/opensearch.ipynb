{
 "cells": [
  {
   "cell_type": "code",
   "execution_count": null,
   "id": "96bc92b8-765e-489c-abd1-55a3b7909c6e",
   "metadata": {},
   "outputs": [],
   "source": [
    "!pip install opensearch-py"
   ]
  },
  {
   "cell_type": "code",
   "execution_count": null,
   "id": "edea7bb7-854d-48b4-a348-ee404a102e96",
   "metadata": {},
   "outputs": [],
   "source": [
    "import os\n",
    "\n",
    "import boto3\n",
    "from pyspark.context import SparkContext\n",
    "from awsglue.context import GlueContext\n",
    "from awsglue.job import Job"
   ]
  },
  {
   "cell_type": "code",
   "execution_count": null,
   "id": "a3564798-5bd6-437e-a9ca-750eeae53343",
   "metadata": {},
   "outputs": [],
   "source": [
    "import sys\n",
    "\n",
    "root_directory = '/home/glue_user/workspace/jupyter_workspace'\n",
    "sys.path.append(root_directory)\n",
    "\n",
    "from glue_connectors.creators import get_connector"
   ]
  },
  {
   "cell_type": "code",
   "execution_count": null,
   "id": "2534db5a-826b-4b85-9946-5425ab34fc78",
   "metadata": {},
   "outputs": [],
   "source": [
    "sc = SparkContext.getOrCreate()\n",
    "glueContext = GlueContext(sc)\n",
    "spark = glueContext.spark_session\n",
    "job = Job(glueContext)\n",
    "\n",
    "hadoop_conf = sc._jsc.hadoopConfiguration()\n",
    "hadoop_conf.set(\"fs.s3a.access.key\", os.getenv('MINIO_ACCESS_KEY'))\n",
    "hadoop_conf.set(\"fs.s3a.secret.key\", os.getenv('MINIO_SECRET_KEY'))\n",
    "hadoop_conf.set(\"fs.s3a.path.style.access\", \"true\")\n",
    "hadoop_conf.set(\"fs.s3.impl\", \"org.apache.hadoop.fs.s3a.S3AFileSystem\")\n",
    "hadoop_conf.set(\"fs.s3a.endpoint\", \"http://minio:9000\")"
   ]
  },
  {
   "cell_type": "code",
   "execution_count": null,
   "id": "f8f27b32-179b-4d88-99bf-3629f63afa63",
   "metadata": {},
   "outputs": [],
   "source": [
    "# Initialize the S3 client for MinIO\n",
    "s3 = boto3.client(\n",
    "    's3',\n",
    "    endpoint_url='http://minio:9000',\n",
    "    aws_access_key_id=os.getenv('MINIO_ACCESS_KEY'),\n",
    "    aws_secret_access_key=os.getenv('MINIO_SECRET_KEY'),\n",
    ")\n",
    "\n",
    "connector = get_connector(\"opensearch\").get_connection()"
   ]
  },
  {
   "cell_type": "code",
   "execution_count": null,
   "id": "3b8173e4-29dc-47a9-81dd-29ab2366cb11",
   "metadata": {},
   "outputs": [],
   "source": [
    "def extract_file_name_without_extension(s3_object_key):\n",
    "    \"\"\"\n",
    "    Extracts the file name without the extension from an S3 object key.\n",
    "    \n",
    "    Args:\n",
    "        s3_object_key (str): The S3 object key.\n",
    "\n",
    "    Returns:\n",
    "        str: The file name without the extension.\n",
    "    \"\"\"\n",
    "    # Use os.path.splitext to split the file name and extension\n",
    "    file_name, file_extension = os.path.splitext(s3_object_key)\n",
    "\n",
    "    # Get just the file name without the leading path and extension\n",
    "    name_without_extension = os.path.basename(file_name)\n",
    "\n",
    "    return name_without_extension\n",
    "\n",
    "# Define the bucket and prefix\n",
    "minio_bucket = os.getenv('MINIO_BUCKET')\n",
    "minio_prefix = os.getenv('MINIO_PREFIX')\n",
    "\n",
    "# List the objects in the bucket\n",
    "response = s3.list_objects_v2(Bucket=minio_bucket, Prefix=minio_prefix)\n",
    "for obj in response.get('Contents', []):\n",
    "    path_s3 = \"s3://{}/{}\".format(minio_bucket, obj.get('Key'))\n",
    "    df = spark.read.csv(path_s3, header=True, inferSchema=True)\n",
    "    file_name = extract_file_name_without_extension(obj.get('Key'))\n",
    "    connector.write_dataframe(df, index=file_name)"
   ]
  }
 ],
 "metadata": {
  "kernelspec": {
   "display_name": "Python 3 (ipykernel)",
   "language": "python",
   "name": "python3"
  },
  "language_info": {
   "codemirror_mode": {
    "name": "ipython",
    "version": 3
   },
   "file_extension": ".py",
   "mimetype": "text/x-python",
   "name": "python",
   "nbconvert_exporter": "python",
   "pygments_lexer": "ipython3",
   "version": "3.10.2"
  }
 },
 "nbformat": 4,
 "nbformat_minor": 5
}
